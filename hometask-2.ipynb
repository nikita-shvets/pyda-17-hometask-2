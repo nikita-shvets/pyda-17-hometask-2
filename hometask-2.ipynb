{
 "cells": [
  {
   "cell_type": "code",
   "execution_count": 17,
   "metadata": {},
   "outputs": [
    {
     "name": "stdout",
     "output_type": "stream",
     "text": [
      "e s\n"
     ]
    }
   ],
   "source": [
    "#задание 1 \n",
    "a = 'test'\n",
    "if len(a)%2 == 0 :\n",
    "    print(a[int(len(a) / 2 - 1)], a[int(len(a) / 2)])\n",
    "else:\n",
    "    print(a[int(len(a) / 2)])"
   ]
  },
  {
   "cell_type": "code",
   "execution_count": 23,
   "metadata": {},
   "outputs": [
    {
     "name": "stdout",
     "output_type": "stream",
     "text": [
      "Введите число0\n",
      "0\n"
     ]
    }
   ],
   "source": [
    "#задание2\n",
    "b=0\n",
    "x=1\n",
    "while x!=0:\n",
    "    x = int(input('Введите число'))\n",
    "    b += x\n",
    "print(b)"
   ]
  },
  {
   "cell_type": "code",
   "execution_count": 38,
   "metadata": {},
   "outputs": [
    {
     "name": "stdout",
     "output_type": "stream",
     "text": [
      "Идеальные пары:\n",
      "Alex и Emma\n",
      "Arthur и Kate\n",
      "John и Kira\n",
      "Peter и Liza\n",
      "Richard и Trisha\n"
     ]
    }
   ],
   "source": [
    "#задание 3\n",
    "boys = ['Peter', 'Alex', 'John', 'Arthur', 'Richard']\n",
    "girls = ['Kate', 'Liza', 'Kira', 'Emma', 'Trisha']\n",
    "if len(boys) == len(girls):\n",
    "    print('Идеальные пары:')\n",
    "    a = list(zip(sorted(boys), sorted(girls)))\n",
    "    for pair in a:\n",
    "        print(pair[0], 'и', pair[1])\n",
    "        \n",
    "else:\n",
    "    print('Внимание, кто-то может остаться без пары!')"
   ]
  },
  {
   "cell_type": "code",
   "execution_count": 44,
   "metadata": {},
   "outputs": [
    {
     "name": "stdout",
     "output_type": "stream",
     "text": [
      "Thailand - 23.9 C\n",
      "Germany - 13.8 C\n",
      "Russia - 3.7 C\n",
      "Poland - 12.0 C\n"
     ]
    }
   ],
   "source": [
    "#задание 4\n",
    "countries_temperature = [\n",
    "['Thailand', [75.2, 77, 78.8, 73.4, 68, 75.2, 77]],\n",
    "['Germany', [57.2, 55.4, 59, 59, 53.6]],\n",
    "['Russia', [35.6, 37.4, 39.2, 41, 42.8, 39.2, 35.6]],\n",
    "['Poland', [50, 50, 53.6, 57.2, 55.4, 55.4]]\n",
    "]\n",
    "for country in countries_temperature:\n",
    "    print(country[0], '-', round(5 / 9 *(sum(country[1]) / len(country[1]) -32),1), 'C') \n",
    "    #округляет среднюю температуру, переведенную в цельсия      "
   ]
  },
  {
   "cell_type": "code",
   "execution_count": 62,
   "metadata": {},
   "outputs": [
    {
     "name": "stdout",
     "output_type": "stream",
     "text": [
      "23.25\n"
     ]
    }
   ],
   "source": [
    "#задание 5\n",
    "stream = [\n",
    "'2018-01-01,user1,3',\n",
    "'2018-01-07,user1,4',\n",
    "'2018-03-29,user1,1',\n",
    "'2018-04-04,user1,13',\n",
    "'2018-01-05,user2,7',\n",
    "'2018-06-14,user3,4',\n",
    "'2018-07-02,user3,10',\n",
    "'2018-03-21,user4,19',\n",
    "'2018-03-22,user4,4',\n",
    "'2018-04-22,user4,8',\n",
    "'2018-05-03,user4,9',\n",
    "'2018-05-11,user4,11',\n",
    "]\n",
    "b = 0 \n",
    "users_list = [] # список пользователей(с дубликатами)\n",
    "for session in stream:\n",
    "    a = session.split(',')\n",
    "    users_list.append(a[1])\n",
    "    b += int(a[2]) # общее количество просмотров\n",
    "print(b / len(set(users_list)))"
   ]
  },
  {
   "cell_type": "code",
   "execution_count": 76,
   "metadata": {},
   "outputs": [
    {
     "name": "stdout",
     "output_type": "stream",
     "text": [
      "1 1 2 2 3 3\n",
      "3 2 1\n"
     ]
    }
   ],
   "source": [
    "#задание 6\n",
    "a = list(input().split())\n",
    "elements_list = [] #список повторяющихся элементов(с дубликатами)\n",
    "for element in a:\n",
    "    if a.count(element) > 1:\n",
    "        elements_list.append(element)\n",
    "print(' '.join(set(elements_list)))"
   ]
  }
 ],
 "metadata": {
  "kernelspec": {
   "display_name": "Python 3",
   "language": "python",
   "name": "python3"
  },
  "language_info": {
   "codemirror_mode": {
    "name": "ipython",
    "version": 3
   },
   "file_extension": ".py",
   "mimetype": "text/x-python",
   "name": "python",
   "nbconvert_exporter": "python",
   "pygments_lexer": "ipython3",
   "version": "3.8.5"
  }
 },
 "nbformat": 4,
 "nbformat_minor": 4
}
